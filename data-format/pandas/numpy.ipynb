{
 "cells": [
  {
   "cell_type": "code",
   "execution_count": 3,
   "id": "97daccaf",
   "metadata": {},
   "outputs": [
    {
     "name": "stdout",
     "output_type": "stream",
     "text": [
      "배열: [1 2 3 4 5]\n",
      "2배를 적용한 배열: [ 2  4  6  8 10]\n",
      "평균: 3.0\n",
      "3 이상: [3 4 5]\n",
      "행렬:\n",
      "[[1 2]\n",
      " [3 4]]\n"
     ]
    }
   ],
   "source": [
    "import numpy as np\n",
    "\n",
    "# 배열 생성\n",
    "arr = np.array([1, 2, 3, 4, 5])\n",
    "print(\"배열:\", arr)\n",
    "\n",
    "# 연산\n",
    "print(\"2배를 적용한 배열:\", arr * 2)\n",
    "print(\"평균:\", np.mean(arr))\n",
    "\n",
    "# 조건 필터링\n",
    "print(\"3 이상:\", arr[arr >= 3])\n",
    "\n",
    "# 2차원 배열\n",
    "matrix = np.array([[1, 2], [3, 4]])\n",
    "print(\"행렬:\")\n",
    "print(matrix)"
   ]
  }
 ],
 "metadata": {
  "kernelspec": {
   "display_name": "Python 3",
   "language": "python",
   "name": "python3"
  },
  "language_info": {
   "codemirror_mode": {
    "name": "ipython",
    "version": 3
   },
   "file_extension": ".py",
   "mimetype": "text/x-python",
   "name": "python",
   "nbconvert_exporter": "python",
   "pygments_lexer": "ipython3",
   "version": "3.13.7"
  }
 },
 "nbformat": 4,
 "nbformat_minor": 5
}
