{
 "cells": [
  {
   "cell_type": "code",
   "execution_count": 1,
   "id": "c15750a9",
   "metadata": {},
   "outputs": [
    {
     "name": "stdout",
     "output_type": "stream",
     "text": [
      "lifeistooshort\n",
      "lifeistoo short\n",
      "life is too short\n",
      "2025-08-15\n",
      "hello \n",
      "hello World"
     ]
    }
   ],
   "source": [
    "print(\"life\" \"is\" \"too\" \"short\")    # 1번\n",
    "print(\"life\" + \"is\" + \"too short\")  # 2번\n",
    "print(\"life\", \"is\", \"too short\")    # 3번\n",
    "print(\"2025\", \"08\", \"15\", sep=\"-\")  # 4번\n",
    "print(\"hello\", end=' ')             # 5번\n",
    "print()\n",
    "print(\"hello\", \"World\", end='', sep=' ') # 6번\n"
   ]
  },
  {
   "cell_type": "code",
   "execution_count": null,
   "id": "0a690aee",
   "metadata": {},
   "outputs": [],
   "source": [
    "print(\"===간단한 계산기\")"
   ]
  }
 ],
 "metadata": {
  "kernelspec": {
   "display_name": "Python 3",
   "language": "python",
   "name": "python3"
  },
  "language_info": {
   "codemirror_mode": {
    "name": "ipython",
    "version": 3
   },
   "file_extension": ".py",
   "mimetype": "text/x-python",
   "name": "python",
   "nbconvert_exporter": "python",
   "pygments_lexer": "ipython3",
   "version": "3.13.7"
  }
 },
 "nbformat": 4,
 "nbformat_minor": 5
}
