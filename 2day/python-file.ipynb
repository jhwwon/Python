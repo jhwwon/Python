{
 "cells": [
  {
   "cell_type": "code",
   "execution_count": 40,
   "id": "6e53e67d",
   "metadata": {},
   "outputs": [
    {
     "name": "stdout",
     "output_type": "stream",
     "text": [
      "if 블록 안의 변수\n",
      "2\n",
      "반복문 안의 변수\n"
     ]
    }
   ],
   "source": [
    "# if 문 블록의 예\n",
    "if True:\n",
    "    if_var = \"if 블록 안의 변수\"\n",
    "\n",
    "print(if_var)  # 정상 작동! \"if 블록 안의 변수\" 출력\n",
    "\n",
    "# for 문 블록의 예  \n",
    "for i in range(3):\n",
    "    loop_var = \"반복문 안의 변수\"\n",
    "\n",
    "print(i)         # 정상 작동! 2 출력\n",
    "print(loop_var)  # 정상 작동! \"반복문 안의 변수\" 출력"
   ]
  },
  {
   "cell_type": "code",
   "execution_count": 41,
   "id": "48318ddf",
   "metadata": {},
   "outputs": [
    {
     "name": "stdout",
     "output_type": "stream",
     "text": [
      "Hello, Python!\n"
     ]
    }
   ],
   "source": [
    "# with 문에서 변수 사용 예제\n",
    "with open(\"test.txt\", \"w\", encoding='utf-8') as f:\n",
    "    content = \"Hello, Python!\"  # with 블록 내에서 변수 선언\n",
    "    f.write(content)\n",
    "\n",
    "# with 블록을 벗어난 후에도 변수에 접근 가능\n",
    "print(content)  # \"Hello, Python!\" 출력"
   ]
  },
  {
   "cell_type": "code",
   "execution_count": 39,
   "id": "0973246b",
   "metadata": {},
   "outputs": [],
   "source": [
    "def my_function():\n",
    "    func_var = \"함수 안의 변수\"\n",
    "\n",
    "my_function()\n",
    "# print(func_var)  # 오류! 함수 밖에서는 접근 불가"
   ]
  },
  {
   "cell_type": "code",
   "execution_count": 35,
   "id": "2a7d1650",
   "metadata": {},
   "outputs": [],
   "source": [
    "# file_with.py\n",
    "with open(\"새파일.txt\", \"w\") as f:\n",
    "    f.write(\"Life is too short, you need python\")"
   ]
  },
  {
   "cell_type": "code",
   "execution_count": 32,
   "id": "c2e7c47b",
   "metadata": {},
   "outputs": [
    {
     "name": "stdout",
     "output_type": "stream",
     "text": [
      "1 번째 줄입니다\n",
      "2 번째 줄입니다\n",
      "3 번째 줄입니다\n",
      "4 번째 줄입니다\n",
      "5 번째 줄입니다\n",
      "6 번째 줄입니다\n",
      "7 번째 줄입니다\n",
      "8 번째 줄입니다\n",
      "9 번째 줄입니다\n",
      "10 번째 줄입니다\n",
      "1 번째 줄입니다\n",
      "2 번째 줄입니다\n",
      "3 번째 줄입니다\n",
      "4 번째 줄입니다\n",
      "5 번째 줄입니다\n",
      "6 번째 줄입니다\n",
      "7 번째 줄입니다\n",
      "8 번째 줄입니다\n",
      "9 번째 줄입니다\n",
      "10 번째 줄입니다\n",
      "\n"
     ]
    }
   ],
   "source": [
    "# read.py\n",
    "f = open(\"새파일.txt\", 'r', encoding='utf-8')\n",
    "data = f.read()  # 파일 전체 읽기\n",
    "print(data)\n",
    "f.close()"
   ]
  },
  {
   "cell_type": "code",
   "execution_count": 30,
   "id": "af17bb9a",
   "metadata": {},
   "outputs": [
    {
     "name": "stdout",
     "output_type": "stream",
     "text": [
      "<class 'list'>\n",
      "1 번째 줄입니다\n",
      "2 번째 줄입니다\n",
      "3 번째 줄입니다\n",
      "4 번째 줄입니다\n",
      "5 번째 줄입니다\n",
      "6 번째 줄입니다\n",
      "7 번째 줄입니다\n",
      "8 번째 줄입니다\n",
      "9 번째 줄입니다\n",
      "10 번째 줄입니다\n",
      "1 번째 줄입니다\n",
      "2 번째 줄입니다\n",
      "3 번째 줄입니다\n",
      "4 번째 줄입니다\n",
      "5 번째 줄입니다\n",
      "6 번째 줄입니다\n",
      "7 번째 줄입니다\n",
      "8 번째 줄입니다\n",
      "9 번째 줄입니다\n",
      "10 번째 줄입니다\n"
     ]
    }
   ],
   "source": [
    "# readlines.py\n",
    "f = open(\"새파일.txt\", 'r', encoding='utf-8')\n",
    "lines = f.readlines()\n",
    "print(type(lines))\n",
    "\n",
    "for line in lines:\n",
    "    line = line.strip()\n",
    "    print(line)\n",
    "f.close()"
   ]
  },
  {
   "cell_type": "code",
   "execution_count": 27,
   "id": "5aa03b92",
   "metadata": {},
   "outputs": [
    {
     "name": "stdout",
     "output_type": "stream",
     "text": [
      "1 번째 줄입니다\n",
      "\n",
      "2 번째 줄입니다\n",
      "\n",
      "3 번째 줄입니다\n",
      "\n",
      "4 번째 줄입니다\n",
      "\n",
      "5 번째 줄입니다\n",
      "\n",
      "6 번째 줄입니다\n",
      "\n",
      "7 번째 줄입니다\n",
      "\n",
      "8 번째 줄입니다\n",
      "\n",
      "9 번째 줄입니다\n",
      "\n",
      "10 번째 줄입니다\n",
      "\n",
      "1 번째 줄입니다\n",
      "\n",
      "2 번째 줄입니다\n",
      "\n",
      "3 번째 줄입니다\n",
      "\n",
      "4 번째 줄입니다\n",
      "\n",
      "5 번째 줄입니다\n",
      "\n",
      "6 번째 줄입니다\n",
      "\n",
      "7 번째 줄입니다\n",
      "\n",
      "8 번째 줄입니다\n",
      "\n",
      "9 번째 줄입니다\n",
      "\n",
      "10 번째 줄입니다\n",
      "\n"
     ]
    }
   ],
   "source": [
    "# readline_all.py\n",
    "f = open(\"새파일.txt\", 'r', encoding='utf-8')\n",
    "while True:\n",
    "    line = f.readline()\n",
    "    if not line: break\n",
    "    print(line)\n",
    "f.close()"
   ]
  },
  {
   "cell_type": "code",
   "execution_count": 25,
   "id": "052285cb",
   "metadata": {},
   "outputs": [
    {
     "name": "stdout",
     "output_type": "stream",
     "text": [
      "1 번째 줄입니다\n",
      "\n"
     ]
    }
   ],
   "source": [
    "f = open(\"새파일.txt\", 'r', encoding='utf-8')\n",
    "line = f.readline()\n",
    "print(line)\n",
    "f.close()"
   ]
  },
  {
   "cell_type": "code",
   "execution_count": null,
   "id": "13be303a",
   "metadata": {},
   "outputs": [],
   "source": [
    "# write_data.py\n",
    "f = open(\"새파일.txt\", 'w', encoding='utf-8')\n",
    "for i in range(1, 11):\n",
    "    data = \"%d 번째 줄입니다\\n\" % i\n",
    "    f.write(data)\n",
    "f.close()"
   ]
  },
  {
   "cell_type": "code",
   "execution_count": null,
   "id": "e70aef69",
   "metadata": {},
   "outputs": [],
   "source": [
    "f = open(\"새파일.txt\", 'w')   # 쓰기 모드로 파일 열기\n",
    "f.close()                    # 파일 닫기"
   ]
  },
  {
   "cell_type": "code",
   "execution_count": null,
   "id": "f0bcb910",
   "metadata": {},
   "outputs": [],
   "source": [
    "f = open(\"C:/doit/새파일.txt\", 'w')   # 쓰기 모드로 파일 열기\n",
    "f.close()                            # 파일 닫기"
   ]
  }
 ],
 "metadata": {
  "kernelspec": {
   "display_name": "Python 3",
   "language": "python",
   "name": "python3"
  },
  "language_info": {
   "codemirror_mode": {
    "name": "ipython",
    "version": 3
   },
   "file_extension": ".py",
   "mimetype": "text/x-python",
   "name": "python",
   "nbconvert_exporter": "python",
   "pygments_lexer": "ipython3",
   "version": "3.13.7"
  }
 },
 "nbformat": 4,
 "nbformat_minor": 5
}
