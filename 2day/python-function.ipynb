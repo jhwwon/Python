{
 "cells": [
  {
   "cell_type": "code",
   "execution_count": null,
   "id": "7b08a3b6",
   "metadata": {},
   "outputs": [
    {
     "name": "stdout",
     "output_type": "stream",
     "text": [
      "7\n"
     ]
    }
   ],
   "source": [
    "# 파이썬 함수 예제\n",
    "def add(a, b):\n",
    "    return a + b\n",
    "\n",
    "a = 3\n",
    "b = 4\n",
    "c = add(a, b)  # add(3, 4)의 반환값을 c에 대입\n",
    "print(c)"
   ]
  },
  {
   "cell_type": "code",
   "execution_count": 3,
   "id": "99f0a4e6",
   "metadata": {},
   "outputs": [
    {
     "name": "stdout",
     "output_type": "stream",
     "text": [
      "7\n",
      "None\n"
     ]
    }
   ],
   "source": [
    "# 파이썬 함수 예제\n",
    "def add(a, b):\n",
    "    print(a+b) # 반환값이 없는 함수\n",
    "\n",
    "a = 3\n",
    "b = 4\n",
    "c = add(a, b)  #a dd(3, 4)의 반환값을 c에 대입\n",
    "print(c)  # None이 출력됨"
   ]
  },
  {
   "cell_type": "code",
   "execution_count": null,
   "id": "9413481c",
   "metadata": {},
   "outputs": [
    {
     "name": "stdout",
     "output_type": "stream",
     "text": [
      "4\n"
     ]
    }
   ],
   "source": [
    "# 매개변수를 지정하여 호출하기 \n",
    "def sub(a, b):\n",
    "    return a - b\n",
    "\n",
    "result = sub(a=7, b=3)  \n",
    "print(result)"
   ]
  },
  {
   "cell_type": "code",
   "execution_count": 7,
   "id": "421196d8",
   "metadata": {},
   "outputs": [
    {
     "name": "stdout",
     "output_type": "stream",
     "text": [
      "6\n",
      "55\n"
     ]
    }
   ],
   "source": [
    "def add_many(*args): # *args:여러 개의 매개변수를 입력받을 떄 사용\n",
    "    result = 0\n",
    "    for i in args:\n",
    "        result = result + i # *args에 입력받은 모든 값을 더한다\n",
    "    return result\n",
    "\n",
    "result1 = add_many(1, 2, 3)  # 1,2,3을 더한다\n",
    "print(result1)   \n",
    "result2 = add_many(1, 2, 3, 4, 5, 6, 7, 8, 9, 10) # 1~10을 더한다\n",
    "print(result2)"
   ]
  },
  {
   "cell_type": "code",
   "execution_count": null,
   "id": "1cc7fca5",
   "metadata": {},
   "outputs": [
    {
     "name": "stdout",
     "output_type": "stream",
     "text": [
      "{'a': 1}\n",
      "{'name': 'foo', 'age': 3}\n",
      "{'name': 'foo', 'age': 3, 'height': 180}\n"
     ]
    }
   ],
   "source": [
    "def print_kargs(**kargs): # **kargs: key=value 형태의 여러 개의 매개변수를 입력\n",
    "    print(kargs)          # python의 dictionary 형태로 출력됨        \n",
    "\n",
    "print_kargs(a=1)  \n",
    "print_kargs(name='foo', age=3)\n",
    "print_kargs(name='foo', age=3, height=180)  "
   ]
  },
  {
   "cell_type": "code",
   "execution_count": null,
   "id": "7a3188ac",
   "metadata": {},
   "outputs": [
    {
     "name": "stdout",
     "output_type": "stream",
     "text": [
      "(7, 12)\n",
      "7\n",
      "12\n"
     ]
    }
   ],
   "source": [
    "def add_and_mul(a,b):\n",
    "    return a+b, a*b   # 튜플 형태로 변환\n",
    "\n",
    "result = add_and_mul(3,4)  # add_and_mul(3, 4)의 반환값을 result에 대입\n",
    "print(result)  # (7, 12) 출력\n",
    "\n",
    "result1, result2 = add_and_mul(3,4)\n",
    "print(result1)  # 7 출력\n",
    "print(result2)  # 12 출력"
   ]
  },
  {
   "cell_type": "code",
   "execution_count": null,
   "id": "3b6c52c9",
   "metadata": {},
   "outputs": [
    {
     "name": "stdout",
     "output_type": "stream",
     "text": [
      "나의 이름은 박응용입니다.\n",
      "나이는 27살입니다.\n",
      "성별은 남자입니다.\n",
      "==================================================\n",
      "나의 이름은 박응용입니다.\n",
      "나이는 27살입니다.\n",
      "성별은 남자입니다.\n"
     ]
    }
   ],
   "source": [
    "def say_myself(name, age, man=True):  # 매개변수 기본값 설정(항상 초기값은 뒤에 넣어야 함\n",
    "    print(\"나의 이름은 %s입니다.\" % name)\n",
    "    print(\"나이는 %d살입니다.\" % age)\n",
    "    if man:\n",
    "        print(\"성별은 남자입니다.\")\n",
    "    else:\n",
    "        print(\"성별은 여자입니다.\")\n",
    "\n",
    "say_myself(\"박응용\", 27)\n",
    "print('=' * 50)\n",
    "say_myself(\"박응용\", 27, True)"
   ]
  },
  {
   "cell_type": "code",
   "execution_count": 12,
   "id": "0fdffa97",
   "metadata": {},
   "outputs": [
    {
     "name": "stdout",
     "output_type": "stream",
     "text": [
      "2\n"
     ]
    }
   ],
   "source": [
    "# vartest_global.py\n",
    "a = 1 \n",
    "def vartest(): \n",
    "    global a \n",
    "    a = a+1\n",
    "\n",
    "vartest() \n",
    "print(a)"
   ]
  },
  {
   "cell_type": "code",
   "execution_count": null,
   "id": "c3b937f4",
   "metadata": {},
   "outputs": [
    {
     "name": "stdout",
     "output_type": "stream",
     "text": [
      "7\n"
     ]
    }
   ],
   "source": [
    "add = lambda a, b: a + b  # add 변수에 람다(lambda) 함수 대입\n",
    "result = add(3, 4)  \n",
    "print(result)             # 7 출력"
   ]
  },
  {
   "cell_type": "code",
   "execution_count": null,
   "id": "812a0d05",
   "metadata": {},
   "outputs": [],
   "source": []
  }
 ],
 "metadata": {
  "kernelspec": {
   "display_name": "Python 3",
   "language": "python",
   "name": "python3"
  },
  "language_info": {
   "codemirror_mode": {
    "name": "ipython",
    "version": 3
   },
   "file_extension": ".py",
   "mimetype": "text/x-python",
   "name": "python",
   "nbconvert_exporter": "python",
   "pygments_lexer": "ipython3",
   "version": "3.13.7"
  }
 },
 "nbformat": 4,
 "nbformat_minor": 5
}
